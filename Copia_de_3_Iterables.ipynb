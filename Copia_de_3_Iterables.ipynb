{
  "nbformat": 4,
  "nbformat_minor": 0,
  "metadata": {
    "orig_nbformat": 4,
    "colab": {
      "name": "Copia de 3. Iterables.ipynb",
      "provenance": [],
      "include_colab_link": true
    },
    "language_info": {
      "name": "python"
    },
    "kernelspec": {
      "name": "python3",
      "display_name": "Python 3"
    }
  },
  "cells": [
    {
      "cell_type": "markdown",
      "metadata": {
        "id": "view-in-github",
        "colab_type": "text"
      },
      "source": [
        "<a href=\"https://colab.research.google.com/github/ircaes/computer_science_tutorials/blob/main/Copia_de_3_Iterables.ipynb\" target=\"_parent\"><img src=\"https://colab.research.google.com/assets/colab-badge.svg\" alt=\"Open In Colab\"/></a>"
      ]
    },
    {
      "cell_type": "markdown",
      "metadata": {
        "id": "jp7IOG-YL11n"
      },
      "source": [
        "1. Create a list where each member is a word of the sentence \"Welcome to Computer Science 101\""
      ]
    },
    {
      "cell_type": "code",
      "metadata": {
        "colab": {
          "base_uri": "https://localhost:8080/"
        },
        "id": "CsFj2NeHMHPm",
        "outputId": "a1f622e6-328e-47e4-ef71-01fb0a238263"
      },
      "source": [
        "my_list = ['Welcome', 'to', 'Computer', 'Science', '101']\n",
        "print(my_list)\n"
      ],
      "execution_count": null,
      "outputs": [
        {
          "output_type": "stream",
          "name": "stdout",
          "text": [
            "['Welcome', 'to', 'Computer', 'Science', '101']\n"
          ]
        }
      ]
    },
    {
      "cell_type": "markdown",
      "metadata": {
        "id": "CY7REg1xL11s"
      },
      "source": [
        "2. Iterate on the array created above and use indexing in each member to print the first character of each word"
      ]
    },
    {
      "cell_type": "code",
      "metadata": {
        "colab": {
          "base_uri": "https://localhost:8080/"
        },
        "id": "Dt3twKdgRYA6",
        "outputId": "189465b6-2862-4bda-d105-2bfd39263f4b"
      },
      "source": [
        "for irene in my_list:\n",
        " print(irene)\n",
        "\n"
      ],
      "execution_count": null,
      "outputs": [
        {
          "output_type": "stream",
          "name": "stdout",
          "text": [
            "Welcome\n",
            "to\n",
            "Computer\n",
            "Science\n",
            "101\n"
          ]
        }
      ]
    },
    {
      "cell_type": "markdown",
      "metadata": {
        "id": "FKP-dsAHL11t"
      },
      "source": [
        "3. Use the ```in``` operator to determine if the word \"Science\" is in the created list."
      ]
    },
    {
      "cell_type": "code",
      "metadata": {
        "colab": {
          "base_uri": "https://localhost:8080/"
        },
        "id": "tSZ3TVmkSPD4",
        "outputId": "d78bb96d-2ccf-4547-96cb-0f6a26f53678"
      },
      "source": [
        "word = \"Science\"\n",
        "if word in my_list:\n",
        " print(\"True\")"
      ],
      "execution_count": null,
      "outputs": [
        {
          "output_type": "stream",
          "name": "stdout",
          "text": [
            "True\n"
          ]
        }
      ]
    },
    {
      "cell_type": "code",
      "metadata": {
        "id": "I1RpYdtMS6lv"
      },
      "source": [
        ""
      ],
      "execution_count": null,
      "outputs": []
    },
    {
      "cell_type": "code",
      "metadata": {
        "id": "NEjURRhNS6iL"
      },
      "source": [
        ""
      ],
      "execution_count": null,
      "outputs": []
    },
    {
      "cell_type": "markdown",
      "metadata": {
        "id": "Ad_QQbBuL11u"
      },
      "source": [
        "4. Given a string variable of arbitrary length named 'my_string', write down a script to obtain the characters two by two in reverse order."
      ]
    },
    {
      "cell_type": "code",
      "metadata": {
        "colab": {
          "base_uri": "https://localhost:8080/"
        },
        "id": "F7bN_bWaY4tC",
        "outputId": "3764c972-bfa6-4693-9821-1dc18659447b"
      },
      "source": [
        "my_string = str(input(\"Choose a phrase: \"))\n",
        "inverted_string = my_string[::-2]\n",
        "print(inverted_string)"
      ],
      "execution_count": 1,
      "outputs": [
        {
          "output_type": "stream",
          "name": "stdout",
          "text": [
            "Choose a phrase: holaquetal\n",
            "ltuao\n"
          ]
        }
      ]
    },
    {
      "cell_type": "markdown",
      "metadata": {
        "id": "uHj5RhcLL11u"
      },
      "source": [
        "5. Given two lists containing integers of the same length, obtain another list \n",
        "\n",
        "\n",
        "where the values in even index i is the sum of i-th values of the arrays and the values in odd index j is the substraction of the j-th values of the arrays.  "
      ]
    },
    {
      "cell_type": "code",
      "metadata": {
        "colab": {
          "base_uri": "https://localhost:8080/",
          "height": 132
        },
        "id": "vybbhK4WS8vt",
        "outputId": "61c743bc-830e-4fa0-a623-15de95234b33"
      },
      "source": [
        "sut=0\n",
        "for x in range(10):\n",
        " if x%2 >0\n",
        " print(LO.format(x))\n",
        "\n",
        "\n"
      ],
      "execution_count": null,
      "outputs": [
        {
          "output_type": "error",
          "ename": "SyntaxError",
          "evalue": "ignored",
          "traceback": [
            "\u001b[0;36m  File \u001b[0;32m\"<ipython-input-38-c07f98bd7a14>\"\u001b[0;36m, line \u001b[0;32m3\u001b[0m\n\u001b[0;31m    if x%2 >0\u001b[0m\n\u001b[0m             ^\u001b[0m\n\u001b[0;31mSyntaxError\u001b[0m\u001b[0;31m:\u001b[0m invalid syntax\n"
          ]
        }
      ]
    }
  ]
}