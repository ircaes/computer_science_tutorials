{
  "cells": [
    {
      "cell_type": "markdown",
      "metadata": {
        "id": "view-in-github",
        "colab_type": "text"
      },
      "source": [
        "<a href=\"https://colab.research.google.com/github/ircaes/computer_science_tutorials/blob/main/L1_Matrices.ipynb\" target=\"_parent\"><img src=\"https://colab.research.google.com/assets/colab-badge.svg\" alt=\"Open In Colab\"/></a>"
      ]
    },
    {
      "cell_type": "markdown",
      "metadata": {
        "id": "gnBzNLsWjdW9"
      },
      "source": [
        "# Práctica 1. Matrices\n",
        "\n",
        "### 1. Introducción\n",
        "\n",
        "\n",
        "A lo largo de las prácticas utilizaremos principalmente el paquete de Python `numpy` y también el subpaquete `linalg` de `scipy`, luego es **muy importante** importarlos siempre antes de empezar la sesión. "
      ]
    },
    {
      "cell_type": "code",
      "execution_count": 1,
      "metadata": {
        "id": "I8lpz2ItjdXG"
      },
      "outputs": [],
      "source": [
        "import numpy as np\n",
        "import scipy.linalg as la"
      ]
    },
    {
      "cell_type": "markdown",
      "metadata": {
        "id": "u1b_qMWKjdXJ"
      },
      "source": [
        "Por comodidad, los hemos llamado con un nombre abreviado. Si se nos olvida importarlos, al ejecutar algún comando que los necesite nos saldrá un mensaje de error del tipo siguiente: `NameError: name 'np' is not defined`.\n",
        "\n",
        "**Los escalares** se introducen directamente y, en el caso de números decimales, separando la parte entera de la decimal con un\n",
        "punto. "
      ]
    },
    {
      "cell_type": "code",
      "execution_count": 2,
      "metadata": {
        "scrolled": true,
        "colab": {
          "base_uri": "https://localhost:8080/"
        },
        "id": "vZejDp-jjdXL",
        "outputId": "d4f4aec7-7b23-40ff-8e86-b12d8b7632bd"
      },
      "outputs": [
        {
          "output_type": "stream",
          "name": "stdout",
          "text": [
            "[a,b] = [2, 3.5]\n"
          ]
        }
      ],
      "source": [
        "a=2\n",
        "b=3.5\n",
        "print('[a,b] =',[a,b])"
      ]
    },
    {
      "cell_type": "markdown",
      "metadata": {
        "id": "FmHU80zljdXM"
      },
      "source": [
        "Podemos **redondear** un número concreto $x$ a $d$ decimales mediante `round(x, d)`."
      ]
    },
    {
      "cell_type": "code",
      "execution_count": 3,
      "metadata": {
        "colab": {
          "base_uri": "https://localhost:8080/"
        },
        "id": "bznm0rvUjdXN",
        "outputId": "b2a785d2-144c-4c6f-f647-86e1a9ade73f"
      },
      "outputs": [
        {
          "output_type": "execute_result",
          "data": {
            "text/plain": [
              "3.14"
            ]
          },
          "metadata": {},
          "execution_count": 3
        }
      ],
      "source": [
        "round(3.1415926, 2)"
      ]
    },
    {
      "cell_type": "markdown",
      "metadata": {
        "id": "EjKzcu77jdXO"
      },
      "source": [
        "### 2. Matrices"
      ]
    },
    {
      "cell_type": "markdown",
      "metadata": {
        "id": "8qxfYroxjdXP"
      },
      "source": [
        "Con el comando `np.array([ vector ])` podemos crear listas como la anterior, pero además podremos operar con ellas. Observemos que el _output_ obtenido es un poco diferente si usamos `print`."
      ]
    },
    {
      "cell_type": "code",
      "execution_count": 4,
      "metadata": {
        "colab": {
          "base_uri": "https://localhost:8080/"
        },
        "id": "o6L2XzdGjdXQ",
        "outputId": "eb9f6e0f-93c2-45df-cedb-8fc9e4af14f8"
      },
      "outputs": [
        {
          "output_type": "execute_result",
          "data": {
            "text/plain": [
              "array([[6, 9]])"
            ]
          },
          "metadata": {},
          "execution_count": 4
        }
      ],
      "source": [
        "v=np.array([[2,3]])\n",
        "3*v"
      ]
    },
    {
      "cell_type": "code",
      "execution_count": 5,
      "metadata": {
        "colab": {
          "base_uri": "https://localhost:8080/"
        },
        "id": "hsbGTywdjdXR",
        "outputId": "6f511f6c-8b48-4acb-fb39-423fe4a20171"
      },
      "outputs": [
        {
          "output_type": "stream",
          "name": "stdout",
          "text": [
            "[[6 9]]\n"
          ]
        }
      ],
      "source": [
        "print(3*v)"
      ]
    },
    {
      "cell_type": "markdown",
      "metadata": {
        "id": "_s0BiA_xjdXS"
      },
      "source": [
        "También es posible redondear en global todas las entradas de un vector con `np.round(v, d)`."
      ]
    },
    {
      "cell_type": "code",
      "execution_count": 6,
      "metadata": {
        "colab": {
          "base_uri": "https://localhost:8080/"
        },
        "id": "xx5V0Wz0jdXS",
        "outputId": "3a06dda7-cb64-4535-8c04-90f6068292cc"
      },
      "outputs": [
        {
          "output_type": "execute_result",
          "data": {
            "text/plain": [
              "array([[0.11, 1.22]])"
            ]
          },
          "metadata": {},
          "execution_count": 6
        }
      ],
      "source": [
        "np.round(np.array([[1/9, 11/9]]), 2)"
      ]
    },
    {
      "cell_type": "markdown",
      "metadata": {
        "id": "O__vIuztjdXT"
      },
      "source": [
        "Los vectores los podemos introducir en modo fila o columna, y con varios vectores podemos crear también **matrices** de las dimensiones que deseemos."
      ]
    },
    {
      "cell_type": "code",
      "execution_count": 11,
      "metadata": {
        "id": "oZV3cK9XjdXT"
      },
      "outputs": [],
      "source": [
        "v1=np.array([[1,2,3]])      # vector de dimensión (1,3)\n",
        "v2=np.array([[5],[7],[-1]])         # vector de dimensión (3,1)\n",
        "M=np.array([[1, 0, -3],[2, 5, 0],[1, 1, -4]])    # matriz de dimensión (3,3)"
      ]
    },
    {
      "cell_type": "code",
      "execution_count": null,
      "metadata": {
        "id": "pdda9FzTjdXU"
      },
      "outputs": [],
      "source": [
        "v1"
      ]
    },
    {
      "cell_type": "code",
      "execution_count": 12,
      "metadata": {
        "colab": {
          "base_uri": "https://localhost:8080/"
        },
        "id": "aabwiUfEjdXU",
        "outputId": "31dffc54-3aa3-4b99-a9ba-fc6b3cca6896"
      },
      "outputs": [
        {
          "output_type": "stream",
          "name": "stdout",
          "text": [
            "[[ 1  0 -3]\n",
            " [ 2  5  0]\n",
            " [ 1  1 -4]]\n",
            "[[ 5]\n",
            " [ 7]\n",
            " [-1]]\n"
          ]
        }
      ],
      "source": [
        "print(M)\n",
        "print(v2)"
      ]
    },
    {
      "cell_type": "markdown",
      "metadata": {
        "id": "rx9ed8yrjdXU"
      },
      "source": [
        "Podemos comprobar las **dimensiones** de los vectores y la matriz anteriores añadiéndole `.shape` a sus nombres. Asimismo, con `.size` obtendremos el número total de elementos que poseen."
      ]
    },
    {
      "cell_type": "code",
      "execution_count": 13,
      "metadata": {
        "colab": {
          "base_uri": "https://localhost:8080/"
        },
        "id": "bhvNZTRmjdXV",
        "outputId": "5f62264b-1b2e-4a0f-e9bc-92c2fb9b537f"
      },
      "outputs": [
        {
          "output_type": "execute_result",
          "data": {
            "text/plain": [
              "(1, 3)"
            ]
          },
          "metadata": {},
          "execution_count": 13
        }
      ],
      "source": [
        "v1.shape"
      ]
    },
    {
      "cell_type": "code",
      "execution_count": null,
      "metadata": {
        "id": "QlfooahzjdXV"
      },
      "outputs": [],
      "source": [
        "M.shape"
      ]
    },
    {
      "cell_type": "code",
      "execution_count": 14,
      "metadata": {
        "colab": {
          "base_uri": "https://localhost:8080/"
        },
        "id": "ctnCd9rRjdXV",
        "outputId": "46c7d30c-e0d4-4306-8960-8d142a68f5e8"
      },
      "outputs": [
        {
          "output_type": "execute_result",
          "data": {
            "text/plain": [
              "3"
            ]
          },
          "metadata": {},
          "execution_count": 14
        }
      ],
      "source": [
        "v2.size"
      ]
    },
    {
      "cell_type": "code",
      "execution_count": 15,
      "metadata": {
        "colab": {
          "base_uri": "https://localhost:8080/"
        },
        "id": "BXT2tdMZjdXW",
        "outputId": "d004c266-20d3-4d60-cf37-b417f6b807db"
      },
      "outputs": [
        {
          "output_type": "execute_result",
          "data": {
            "text/plain": [
              "9"
            ]
          },
          "metadata": {},
          "execution_count": 15
        }
      ],
      "source": [
        "M.size"
      ]
    },
    {
      "cell_type": "markdown",
      "metadata": {
        "id": "yFHLvr2ZjdXW"
      },
      "source": [
        "Otra forma que puede ser útil para crear matrices es uniendo vectores previos, a través de `np.vstack`. Si los vectores están en columna, usaremos `np.hstack` para _unirlos horizontalmente_."
      ]
    },
    {
      "cell_type": "code",
      "execution_count": 16,
      "metadata": {
        "colab": {
          "base_uri": "https://localhost:8080/"
        },
        "id": "E1klIpdhjdXW",
        "outputId": "8ba25da0-12d4-4df4-9933-1ab6b4ef4165"
      },
      "outputs": [
        {
          "output_type": "stream",
          "name": "stdout",
          "text": [
            "[[0 1 0]\n",
            " [1 0 0]\n",
            " [1 2 3]]\n"
          ]
        }
      ],
      "source": [
        "v3=np.array([[0,1,0]])\n",
        "v4=np.array([[1,0,0]])\n",
        "N=np.vstack([v3,v4,v1])   # matriz creada uniendo por filas v3, v4 y v1\n",
        "print(N)"
      ]
    },
    {
      "cell_type": "code",
      "execution_count": 17,
      "metadata": {
        "colab": {
          "base_uri": "https://localhost:8080/"
        },
        "id": "MxqmLyckjdXX",
        "outputId": "acc7c37f-0b45-4b59-ff65-89e7961b2e9e"
      },
      "outputs": [
        {
          "output_type": "stream",
          "name": "stdout",
          "text": [
            "[[ 5  1  1]\n",
            " [ 7  0  1]\n",
            " [-1  0  1]]\n"
          ]
        }
      ],
      "source": [
        "v5=np.array([[1],\n",
        "            [0],\n",
        "            [0]])\n",
        "v6=np.array([[1],\n",
        "            [1],\n",
        "            [1]])\n",
        "L=np.hstack([v2,v5,v6])   # en este caso, matriz creada uniendo por columnas v2, v5 y v6\n",
        "print(L)"
      ]
    },
    {
      "cell_type": "markdown",
      "metadata": {
        "id": "VdY3fxg6jdXX"
      },
      "source": [
        "### 3. Algunas matrices especiales\n",
        "\n",
        "Existen comandos que nos permiten crear directamente algunos tipos de matrices que utilizaremos frecuentemente. Por ejemplo, con `np.zeros((m,n))` podremos crear una **matriz nula** de dimensión $m \\times n$. La **matriz identidad** de dimensión $n$ la podemos construir a través de `np.eye(n)`, mientras que `np.ones((m,n))` nos crea una **matriz de unos** de dimensión $m\\times n$."
      ]
    },
    {
      "cell_type": "code",
      "execution_count": 23,
      "metadata": {
        "colab": {
          "base_uri": "https://localhost:8080/"
        },
        "id": "NFWYDH40jdXX",
        "outputId": "d1dfe0ba-fe9a-417f-e647-cd1bc7a46abd"
      },
      "outputs": [
        {
          "output_type": "stream",
          "name": "stdout",
          "text": [
            "[[0. 0. 0.]\n",
            " [0. 0. 0.]]\n",
            "[[6. 7. 7. 7. 7.]\n",
            " [7. 6. 7. 7. 7.]\n",
            " [7. 7. 6. 7. 7.]\n",
            " [7. 7. 7. 6. 7.]\n",
            " [7. 7. 7. 7. 6.]]\n",
            "[[1. 0. 0.]\n",
            " [0. 1. 0.]\n",
            " [0. 0. 1.]]\n"
          ]
        }
      ],
      "source": [
        "print(np.zeros((2,3)))\n",
        "print(7*np.ones((5,5))-np.eye(5))\n",
        "print(np.eye(3))"
      ]
    },
    {
      "cell_type": "markdown",
      "metadata": {
        "id": "HOFxV2lZjdXY"
      },
      "source": [
        "Una **matriz de entradas constantes** $k$ puede ser construida de dos formas diferentes. Por ejemplo, a través del comando `np.full((m, n), k)`, o también _multiplicando_ el escalar $k$ por una matriz de unos (esto conlleva una _operación con matrices_ que veremos en la siguiente sección)."
      ]
    },
    {
      "cell_type": "code",
      "execution_count": 19,
      "metadata": {
        "colab": {
          "base_uri": "https://localhost:8080/"
        },
        "id": "gbzsdmlNjdXY",
        "outputId": "c3302781-b6ac-40f7-bd3f-124876562472"
      },
      "outputs": [
        {
          "output_type": "stream",
          "name": "stdout",
          "text": [
            "[[7 7 7 7]\n",
            " [7 7 7 7]\n",
            " [7 7 7 7]]\n",
            "[[7. 7. 7. 7.]\n",
            " [7. 7. 7. 7.]\n",
            " [7. 7. 7. 7.]]\n"
          ]
        }
      ],
      "source": [
        "print(np.full((3,4), 7))\n",
        "print(7*np.ones((3,4)))"
      ]
    },
    {
      "cell_type": "markdown",
      "metadata": {
        "id": "eVoRGLUvjdXY"
      },
      "source": [
        "Una **matrix diagonal** con entradas $a_1, \\ldots, a_n$ puede ser creada a partir de `np.diag([ ])`, introduciendo dentro de los corchetes las entradas. Asimismo, con `np.diag(A)` podemos obtener un vector cuyas entradas son los elementos de la diagonal de la matriz $A$."
      ]
    },
    {
      "cell_type": "code",
      "execution_count": 20,
      "metadata": {
        "colab": {
          "base_uri": "https://localhost:8080/"
        },
        "id": "ElUaviDVjdXZ",
        "outputId": "71a3addf-9251-4a42-f43e-6a2f7bb01aa6"
      },
      "outputs": [
        {
          "output_type": "stream",
          "name": "stdout",
          "text": [
            "[[1 0 0 0 0]\n",
            " [0 2 0 0 0]\n",
            " [0 0 3 0 0]\n",
            " [0 0 0 4 0]\n",
            " [0 0 0 0 5]]\n",
            "[5 0 1]\n",
            "[[5 0 0]\n",
            " [0 0 0]\n",
            " [0 0 1]]\n"
          ]
        }
      ],
      "source": [
        "A=np.diag([1,2,3,4,5])\n",
        "print(A)\n",
        "\n",
        "print(np.diag(L))  #si metes una matriz te extrae la diagonal \n",
        "\n",
        "D=np.diag(np.diag(L))     # De esta forma obtenemos una matriz diagonal a partir de la diagonal de L\n",
        "print(D)"
      ]
    },
    {
      "cell_type": "markdown",
      "metadata": {
        "id": "AlkJqv4mjdXZ"
      },
      "source": [
        "### 4. Operaciones con matrices\n",
        "\n",
        "Las **operaciones aritméticas** usuales `+,-,*,/` (suma, resta, multiplicación y división) y `**` (potencia) sobre listas se aplican **elemento a elemento**."
      ]
    },
    {
      "cell_type": "code",
      "execution_count": 25,
      "metadata": {
        "colab": {
          "base_uri": "https://localhost:8080/"
        },
        "id": "SyDVvuCfjdXZ",
        "outputId": "4ad431d8-a623-456f-8b24-4990a940bd41"
      },
      "outputs": [
        {
          "output_type": "stream",
          "name": "stdout",
          "text": [
            "[[ 1  0 -3]\n",
            " [ 2  5  0]\n",
            " [ 1  1 -4]]\n",
            "[[0 1 0]\n",
            " [1 0 0]\n",
            " [1 2 3]]\n",
            "[[ 1  1 -3]\n",
            " [ 3  5  0]\n",
            " [ 2  3 -1]]\n"
          ]
        }
      ],
      "source": [
        "print(M)\n",
        "print(N)\n",
        "print(M+N)"
      ]
    },
    {
      "cell_type": "code",
      "execution_count": 24,
      "metadata": {
        "colab": {
          "base_uri": "https://localhost:8080/"
        },
        "id": "zjtq99UejdXZ",
        "outputId": "b53f4471-c4fc-4e7e-8c64-bfcfce47b1ea"
      },
      "outputs": [
        {
          "output_type": "stream",
          "name": "stdout",
          "text": [
            "[[ 4  1  4]\n",
            " [ 5 -5  1]\n",
            " [-2 -1  5]]\n",
            "[[ 4  0  0]\n",
            " [ 6 -1  0]\n",
            " [-2 -1  0]]\n"
          ]
        }
      ],
      "source": [
        "print(L-M)\n",
        "print(L-1)"
      ]
    },
    {
      "cell_type": "code",
      "execution_count": 26,
      "metadata": {
        "colab": {
          "base_uri": "https://localhost:8080/"
        },
        "id": "W_gDe0vjjdXa",
        "outputId": "aee486b3-904f-4f1a-b932-c332778a1752"
      },
      "outputs": [
        {
          "output_type": "stream",
          "name": "stdout",
          "text": [
            "[[  0   0   0]\n",
            " [  2   0   0]\n",
            " [  1   2 -12]]\n",
            "[[  1   0  -9]\n",
            " [  2  10   0]\n",
            " [  1   2 -12]]\n",
            "[[  5   0 -15]\n",
            " [ 14  35   0]\n",
            " [ -1  -1   4]]\n"
          ]
        }
      ],
      "source": [
        "print(M*N)                # multiplicada cada entrada de M por su correspondiente entrada en N. \n",
        "                          # NO es el producto de matrices estándar\n",
        "print(M*v1)\n",
        "print(M*v2)"
      ]
    },
    {
      "cell_type": "code",
      "execution_count": 27,
      "metadata": {
        "colab": {
          "base_uri": "https://localhost:8080/"
        },
        "id": "SJXO9pG8jdXa",
        "outputId": "61cc4160-40f4-4d4a-9457-64feb22f707e"
      },
      "outputs": [
        {
          "output_type": "stream",
          "name": "stdout",
          "text": [
            "[[ 1  0  9]\n",
            " [ 4 25  0]\n",
            " [ 1  1 16]]\n",
            "[[4 6]]\n",
            "[[16 64]]\n"
          ]
        }
      ],
      "source": [
        "print(M**2)        # eleva cada elemento de M al cuadrado\n",
        "print(2*v)    \n",
        "print(2**(2*v))    # eleva el escalar 2 a cada entrada del vector 2*v=[4,7], es decir, crea el vector [2^4, 2^7]"
      ]
    },
    {
      "cell_type": "markdown",
      "metadata": {
        "id": "yATlANq1jdXa"
      },
      "source": [
        "Para realizar el **producto de matrices estándar** entre dos matrices compatibles $M$ y $N$, debemos usar `M @ N` (los espacios realmente no son necesarios) o bien `M.dot(N)`."
      ]
    },
    {
      "cell_type": "code",
      "execution_count": 28,
      "metadata": {
        "colab": {
          "base_uri": "https://localhost:8080/"
        },
        "id": "Mqbbvua4jdXb",
        "outputId": "c7b8f4a0-a1d9-4372-fc0b-e6e2677de08c"
      },
      "outputs": [
        {
          "output_type": "stream",
          "name": "stdout",
          "text": [
            "[[ 5  1  1]\n",
            " [ 7  0  1]\n",
            " [-1  0  1]]\n",
            "[[ 5]\n",
            " [ 7]\n",
            " [-1]]\n",
            "[[31]\n",
            " [34]\n",
            " [-6]]\n",
            "[[31]\n",
            " [34]\n",
            " [-6]]\n"
          ]
        }
      ],
      "source": [
        "print(L)\n",
        "print(v2)\n",
        "print(L @ v2)\n",
        "print(L.dot(v2))"
      ]
    },
    {
      "cell_type": "code",
      "execution_count": null,
      "metadata": {
        "id": "EwsnQ82jjdXc"
      },
      "outputs": [],
      "source": [
        "M.dot(v1)     # Evidentemente, si las dimensiones no son compatibles, nos devolverá un mensaje de error"
      ]
    },
    {
      "cell_type": "markdown",
      "metadata": {
        "id": "YzN8UrutjdXc"
      },
      "source": [
        "No hay un símbolo específico para calcular **potencias de una matriz** (recordemos que `**` calcula las potencias de los elementos, no de la matriz en sí). Por tanto, usaremos el comando `np.linalg.matrix_power(M, k)` proveniente del subpaquete `linalg` de `numpy` (recordemos que lo tenemos abreviado por `np`) para calcular la $k$-ésima potencia de $M$, i.e. $M^k$. "
      ]
    },
    {
      "cell_type": "code",
      "execution_count": null,
      "metadata": {
        "id": "cWC-ij-wjdXd"
      },
      "outputs": [],
      "source": [
        "print(np.linalg.matrix_power(L,3))         # L^3 calculada a través de la función np.linalg.matrix_power\n",
        "print(L@L@L)                               # L^3 calculada a través de multiplicar L tres veces"
      ]
    },
    {
      "cell_type": "markdown",
      "metadata": {
        "id": "wrE7nTqxjdXe"
      },
      "source": [
        "También es posible, por comodidad, abreviar el nombre de este comando, por ejemplo por `mpow`. "
      ]
    },
    {
      "cell_type": "code",
      "execution_count": 71,
      "metadata": {
        "colab": {
          "base_uri": "https://localhost:8080/"
        },
        "id": "htqjP9t5jdXe",
        "outputId": "9e27fe8d-ebb6-4ae6-fb18-53df9b970b0a"
      },
      "outputs": [
        {
          "output_type": "stream",
          "name": "stdout",
          "text": [
            "[[183  31  43]\n",
            " [211  34  49]\n",
            " [-37  -6  -7]]\n"
          ]
        }
      ],
      "source": [
        "from numpy.linalg import matrix_power as mpow \n",
        "\n",
        "# Típico error: \"from np.linalg import matrix_power as mpow\", no podemos usar la abreviatura np.linalg !!\n",
        "\n",
        "print(mpow(L, 3))"
      ]
    },
    {
      "cell_type": "markdown",
      "metadata": {
        "id": "X0eyM5BWjdXe"
      },
      "source": [
        "La **traspuesta de una matriz** se puede calcular a partir del comando `.T`."
      ]
    },
    {
      "cell_type": "code",
      "execution_count": 29,
      "metadata": {
        "colab": {
          "base_uri": "https://localhost:8080/"
        },
        "id": "BXhkiOvcjdXe",
        "outputId": "b4eb89e2-d4db-4333-82c9-096e148cbbea"
      },
      "outputs": [
        {
          "output_type": "stream",
          "name": "stdout",
          "text": [
            "[[1]\n",
            " [2]\n",
            " [3]]\n",
            "[[14]]\n"
          ]
        }
      ],
      "source": [
        "print(v1.T)   #traspuesta\n",
        "print(v1@v1.T)     # producto escalar de v1 con v1"
      ]
    },
    {
      "cell_type": "markdown",
      "metadata": {
        "id": "Ue9v4u5MjdXf"
      },
      "source": [
        "Usando el anterior comando, podemos calcular _manualmente_ la norma de un vector $v$, aunque también existe el comando `la.norm(v)` para calcularlo directamente."
      ]
    },
    {
      "cell_type": "code",
      "execution_count": null,
      "metadata": {
        "id": "O2gfCSrxjdXf"
      },
      "outputs": [],
      "source": [
        "print(np.sqrt(v1@v1.T))  # manualmente: de esta manera, el resultado obtenido es una matriz (pues multiplicamos dos matrices)\n",
        "print(np.sqrt(np.sum(v1*v1)))  # manualmente: de esta manera, multiplicamos elemento a elemento v1, sumamos y raíz cuadrada\n",
        "print(la.norm(v1))"
      ]
    },
    {
      "cell_type": "markdown",
      "metadata": {
        "id": "c_9ynhqcjdXf"
      },
      "source": [
        "La **matriz inversa** de una matriz $M$ puede calcularse a través de `la.inv(M)`; su **traza** mediante `np.trace(M)`, su **determinante** a través de `la.det(M)` y su **rango** mediante `np.linalg.matrix_rank(M)`."
      ]
    },
    {
      "cell_type": "code",
      "execution_count": 91,
      "metadata": {
        "colab": {
          "base_uri": "https://localhost:8080/"
        },
        "id": "IqaBiNc7jdXf",
        "outputId": "7bbc876c-7b34-40f2-fb53-bbcf626addff"
      },
      "outputs": [
        {
          "output_type": "stream",
          "name": "stdout",
          "text": [
            "[[ 5  1  1]\n",
            " [ 7  0  1]\n",
            " [-1  0  1]]\n",
            "6\n",
            "-8.0\n",
            "[[-0.     0.125 -0.125]\n",
            " [ 1.    -0.75  -0.25 ]\n",
            " [ 0.     0.125  0.875]]\n",
            "[[ 1.00000000e+00  1.11022302e-16 -1.11022302e-16]\n",
            " [ 0.00000000e+00  1.00000000e+00  0.00000000e+00]\n",
            " [ 0.00000000e+00  0.00000000e+00  1.00000000e+00]]\n"
          ]
        }
      ],
      "source": [
        "print(L)\n",
        "print(np.trace(L))  #calcular la suma de la diagonal\n",
        "print(la.det(L))    # distinto de cero, luego podemos calcular sin problema su inversa\n",
        "print(la.inv(L))\n",
        "print((L.dot(la.inv(L))))"
      ]
    },
    {
      "cell_type": "code",
      "execution_count": null,
      "metadata": {
        "id": "sonZJjV9jdXf"
      },
      "outputs": [],
      "source": [
        "from numpy.linalg import matrix_rank as rank     # abreviamos el comando para calcular rangos\n",
        "\n",
        "rank(L)"
      ]
    },
    {
      "cell_type": "markdown",
      "metadata": {
        "id": "Ykfjqp8TjdXg"
      },
      "source": [
        "### 5. Submatrices\n",
        "\n",
        "\n",
        "Es posible trabajar con **submatrices** extraídas de una matriz $M$, usando expresiones como las siguientes:\n",
        "\n",
        "1. `M[i-1,j-1]` para el elemento que ocupa la posición fila $i$ y columna $j$\n",
        "2. `M[i-1:i,:]` para la fila $i$\n",
        "3. `M[:,j-1:j]` para la columna $j$\n",
        "4. `M[r-1:s,:]` para la submatriz formada por las filas entre la $r$ y la $s$\n",
        "5. `M[[r-1,s-1],:]` para la submatriz formada por las filas $r$ y $s$\n",
        "\n",
        "Observemos que estas expresiones también nos permiten hacer modificaciones en una matriz que ya ha sido introducida. Así, por ejemplo, si queremos modificar la fila $i$ de $M$, podemos escribir `M[i-1,:] = nueva fila`.\n",
        "\n",
        "Es importante recordar que los índices comienzan en el número 0 (i.e. la posición primera es el índice 0), por ello para seleccionar la fila $i$ escribimos el índice `i-1`. Además, por comodidad podemos utilizar el índice `-1` para seleccionar el último elemento, `-2` para el penúltimo, etc. Asimismo, los rangos `a:b` por defecto no seleccionan el último elemento `b`, luego acabaría en el `b-1` (por tanto, el rango `i-1:i` realmente solo contiene un número, el $i-1$).\n",
        "\n",
        "Ante la posible duda de porqué no usamos `M[:,j-1]` para seleccionar la columna $j$ de $M$ en vez de `M[:,j-1:j]`, es importante mencionar que la primera opción devuelve una lista y no un vector columna, luego no podríamos operar matricialmente de forma correcta. La segunda opción sí que devuelve un vector columna y esto se debe a una cuestión un poco técnica: aunque `j-1:j` solamente contiene el número $j-1$, tiene estructura de rango, luego _está en concordancia_ con el formato de filas seleccionado."
      ]
    },
    {
      "cell_type": "code",
      "execution_count": 98,
      "metadata": {
        "colab": {
          "base_uri": "https://localhost:8080/"
        },
        "id": "yiViRV0SjdXh",
        "outputId": "24b1c4bd-4af3-40c0-a786-e5b390dd217f"
      },
      "outputs": [
        {
          "output_type": "stream",
          "name": "stdout",
          "text": [
            "[[ 5  1  1]\n",
            " [ 7  8  1]\n",
            " [-1  0  1]]\n"
          ]
        }
      ],
      "source": [
        "print(L)"
      ]
    },
    {
      "cell_type": "code",
      "execution_count": 92,
      "metadata": {
        "colab": {
          "base_uri": "https://localhost:8080/"
        },
        "id": "PYFgICFYjdXi",
        "outputId": "6a0dca15-c152-4eac-ae1e-c44ace2e26c2"
      },
      "outputs": [
        {
          "output_type": "stream",
          "name": "stdout",
          "text": [
            "7\n",
            "[[ 5  1  1]\n",
            " [ 7  8  1]\n",
            " [-1  0  1]]\n"
          ]
        }
      ],
      "source": [
        "print(L[1,0])       # seleccionamos el elemento (2,1) de la matriz L\n",
        "L[1,1]=8            # cambiamos el elemento (2,2) de la matriz L por un 8, es decir, cambiamos el 0 por 8\n",
        "print(L)"
      ]
    },
    {
      "cell_type": "markdown",
      "metadata": {
        "id": "rm8NK4LDjdXi"
      },
      "source": [
        "Observemos que $L$ ha cambiado. Si no queríamos perder la matriz $L$ inicial, sería mejor hacer las modificaciones sobre una _copia_ de la matriz $L$, digamos $L1$. Esto es posible mediante el comando `L.copy()`. (¡No vale con asignar `L1=L`, pues los cambios se realizarán igualmente sobre ambas matrices!)"
      ]
    },
    {
      "cell_type": "code",
      "execution_count": 96,
      "metadata": {
        "colab": {
          "base_uri": "https://localhost:8080/"
        },
        "id": "cqnk-v_JjdXi",
        "outputId": "682ec9a9-2644-4144-ed3e-6aa07488ced2"
      },
      "outputs": [
        {
          "output_type": "stream",
          "name": "stdout",
          "text": [
            "[[ 5  5  1]\n",
            " [ 7  5  1]\n",
            " [-1  4  1]]\n",
            "[[ 5  1  1]\n",
            " [ 7  8  1]\n",
            " [-1  0  1]]\n"
          ]
        }
      ],
      "source": [
        "L1=L.copy()\n",
        "L1[:,1]=[5,5,4]\n",
        "print(L1)\n",
        "print(L)"
      ]
    },
    {
      "cell_type": "code",
      "execution_count": 95,
      "metadata": {
        "colab": {
          "base_uri": "https://localhost:8080/"
        },
        "id": "5rKHpPTZjdXj",
        "outputId": "929b13e2-978f-459b-edda-3eee4525b114"
      },
      "outputs": [
        {
          "output_type": "stream",
          "name": "stdout",
          "text": [
            "[[ 7  8  1]\n",
            " [-1  0  1]]\n",
            "[[ 7  8  1]\n",
            " [-1  0  1]]\n"
          ]
        }
      ],
      "source": [
        "print(L[[1,2],:])    # seleccionamos las dos últimas filas de L\n",
        "print(L[1:,:])       # equivalentemente: \"1:\" significa que seleccionamos el rango que empieza en el 1 hasta \"el final\""
      ]
    },
    {
      "cell_type": "code",
      "execution_count": 94,
      "metadata": {
        "colab": {
          "base_uri": "https://localhost:8080/"
        },
        "id": "ikToSDrrjdXj",
        "outputId": "274744a6-01bf-4537-b05e-2f48b23b4131"
      },
      "outputs": [
        {
          "output_type": "stream",
          "name": "stdout",
          "text": [
            "[[0.58032534 0.56905641 0.09639911 0.63669235 0.8313508 ]\n",
            " [0.12098231 0.87446984 0.88629811 0.81698517 0.34479945]\n",
            " [0.06399026 0.04721562 0.75602197 0.57392859 0.98161524]\n",
            " [0.48395178 0.22478024 0.12861    0.58449    0.06524143]\n",
            " [0.62091448 0.00508176 0.02501267 0.11984763 0.00543443]]\n",
            "[[0.12098231 0.87446984 0.88629811 0.81698517]\n",
            " [0.48395178 0.22478024 0.12861    0.58449   ]]\n"
          ]
        }
      ],
      "source": [
        "I=np.random.rand(5,5)         # creamos una matriz 5 x 5 de elementos aleatorios\n",
        "print(I)\n",
        "print(I[[1,-2],0:4])          # seleccionamos las filas 2 y 4, y las columnas de la 1 a la 4"
      ]
    },
    {
      "cell_type": "code",
      "execution_count": 97,
      "metadata": {
        "colab": {
          "base_uri": "https://localhost:8080/"
        },
        "id": "BrvlE8CTjdXk",
        "outputId": "1fb11285-4e27-4b23-cd77-76fe45bd4003"
      },
      "outputs": [
        {
          "output_type": "stream",
          "name": "stdout",
          "text": [
            "[[0.62091448 0.00508176 0.02501267 0.11984763 0.00543443]]\n",
            "[[0.09639911]\n",
            " [0.88629811]\n",
            " [0.75602197]\n",
            " [0.12861   ]\n",
            " [0.02501267]]\n"
          ]
        }
      ],
      "source": [
        "print(I[4:5,:])                 # seleccionamos la última fila de I\n",
        "print(I[:,2:3])                 # seleccionamos la tercera columna de I"
      ]
    },
    {
      "cell_type": "markdown",
      "metadata": {
        "id": "a_ZPPP9xjdXk"
      },
      "source": [
        "### 6. Ejercicios\n",
        "\n",
        "1. Dados los números $x = 14.32$, $y = 27.12$ y $z = 3.5$, calcula el valor de la expresión $\\dfrac{8x+y^2}{2-\\sqrt[6]{x^3+\\frac{1}{z}}}$. (Solución: -476.424)\n",
        "\n",
        "\n",
        "2. Crea la matriz $M=(m_{ij})$ de orden $50 \\times 50$ tal que $m_{ii} = 10$ y $m_{ij} = 0$ para $i\\neq j$.\n",
        "\n",
        "\n",
        "3. Dados los vectores $u = \\left(\\frac{1}{4}, -\\frac{1}{6}, \\frac{5}{6}\\right)$ y $v = \\left(\\frac{1}{5}, \\frac{3}{4}, -\\frac{2}{3}\\right)$, calcula el producto escalar de ambos vectores. (Solución: -0.63055)\n",
        "\n",
        "\n",
        "4. Dada la matriz $A=\\begin{pmatrix} 1&2&3\\\\7&8&9\\\\4&5&6\\end{pmatrix}$, calcula la matriz $Z=A^3+16A^2-A^{\\text{t}}+2I$, siendo $A^{\\text{t}}$ la transpuesta de $A$ e $I$ la matriz identidad $3\\times 3$. (Solución: $Z=\\begin{pmatrix} 847&1034&1232\\\\3130&3879&4633\\\\1986&2454&2933 \\end{pmatrix}$)\n",
        "\n",
        "\n",
        "5. Considera el vector $V=\\begin{pmatrix} 1\\\\7\\\\6 \\end{pmatrix}$. Calcula la matriz $ZV$, siendo $Z$ la matriz del ejercicio anterior. (Solución: $ZV=\\begin{pmatrix} 15477\\\\ 58081\\\\ 36762\\end{pmatrix}$)\n",
        "\n",
        "\n",
        "6. Calcula el determinante de la siguiente matriz (estas matrices se denominan _circulantes_ ). $C=\\begin{pmatrix} 1& 2& 3& 4& 5\\\\2& 3& 4& 5& 1 \\\\ 3& 4& 5& 1& 2\\\\ 4& 5& 1& 2& 3\\\\ 5& 1& 2& 3& 4\\end{pmatrix}$. (Ayuda: puedes introducir rápidamente la matriz C con el comando `C = la.circulant([1,2,3,4,5])[:,[0,4,3,2,1]]`) (Solución: 1875)"
      ]
    },
    {
      "cell_type": "markdown",
      "source": [
        "EJERCICIO 1\n"
      ],
      "metadata": {
        "id": "NOGLYP26vNlk"
      }
    },
    {
      "cell_type": "code",
      "execution_count": 34,
      "metadata": {
        "colab": {
          "base_uri": "https://localhost:8080/"
        },
        "id": "yd9WAU_JjdXl",
        "outputId": "6e2e4251-578a-4d2b-ee21-f324ffa7d0af"
      },
      "outputs": [
        {
          "output_type": "stream",
          "name": "stdout",
          "text": [
            "-476.42408024768383\n"
          ]
        }
      ],
      "source": [
        "x=14.32\n",
        "y=27.12\n",
        "z=3.5\n",
        "print((8*x+y**2)/(2-(x**(3)+1/z)**(1/6)))"
      ]
    },
    {
      "cell_type": "markdown",
      "source": [
        "EJERCICIO 2"
      ],
      "metadata": {
        "id": "cP9raB68vQnl"
      }
    },
    {
      "cell_type": "code",
      "source": [
        "M=np.eye(50)*10\n",
        "print(M)"
      ],
      "metadata": {
        "colab": {
          "base_uri": "https://localhost:8080/"
        },
        "id": "v7040yf1thG2",
        "outputId": "3ff8b400-d07e-437f-97b7-74d9f66efb00"
      },
      "execution_count": 36,
      "outputs": [
        {
          "output_type": "stream",
          "name": "stdout",
          "text": [
            "[[10.  0.  0. ...  0.  0.  0.]\n",
            " [ 0. 10.  0. ...  0.  0.  0.]\n",
            " [ 0.  0. 10. ...  0.  0.  0.]\n",
            " ...\n",
            " [ 0.  0.  0. ... 10.  0.  0.]\n",
            " [ 0.  0.  0. ...  0. 10.  0.]\n",
            " [ 0.  0.  0. ...  0.  0. 10.]]\n"
          ]
        }
      ]
    },
    {
      "cell_type": "code",
      "source": [
        "M=10*np.ones((50,50))\n",
        "np.diag(M)\n",
        "print(np.diag(np.diag(M)))"
      ],
      "metadata": {
        "colab": {
          "base_uri": "https://localhost:8080/"
        },
        "id": "XveEOXEauW_b",
        "outputId": "8d972397-b557-4198-bdfc-ed7f0ec38b0c"
      },
      "execution_count": 45,
      "outputs": [
        {
          "output_type": "stream",
          "name": "stdout",
          "text": [
            "[[10.  0.  0. ...  0.  0.  0.]\n",
            " [ 0. 10.  0. ...  0.  0.  0.]\n",
            " [ 0.  0. 10. ...  0.  0.  0.]\n",
            " ...\n",
            " [ 0.  0.  0. ... 10.  0.  0.]\n",
            " [ 0.  0.  0. ...  0. 10.  0.]\n",
            " [ 0.  0.  0. ...  0.  0. 10.]]\n"
          ]
        }
      ]
    },
    {
      "cell_type": "markdown",
      "source": [
        "EJERCICIO 3\n"
      ],
      "metadata": {
        "id": "tXerhI8FvTFU"
      }
    },
    {
      "cell_type": "code",
      "source": [
        "u=np.array([1/4,-1/6,5/6])\n",
        "v=np.array([1/5,3/4,-2/3])\n",
        "x=np.dot(u,v)\n",
        "print(x)"
      ],
      "metadata": {
        "colab": {
          "base_uri": "https://localhost:8080/"
        },
        "id": "peveLFw-vC5t",
        "outputId": "6e08aa3c-ffb4-4fcf-af47-b721b0ab7834"
      },
      "execution_count": 57,
      "outputs": [
        {
          "output_type": "stream",
          "name": "stdout",
          "text": [
            "-0.6305555555555555\n"
          ]
        }
      ]
    },
    {
      "cell_type": "markdown",
      "source": [
        "EJERCICIO 4"
      ],
      "metadata": {
        "id": "DxsAnIR4wvhT"
      }
    },
    {
      "cell_type": "code",
      "source": [
        "A=np.array([[1,2,3],[7,8,9],[4,5,6]])\n",
        "Z=(mpow(A,3)+16*(mpow(A,2))-(A.T)+2*(np.eye(3)))\n",
        "print(Z)"
      ],
      "metadata": {
        "colab": {
          "base_uri": "https://localhost:8080/"
        },
        "id": "Cm8u-jDSww6I",
        "outputId": "e9df5d82-5223-4207-9599-9da186aab1cc"
      },
      "execution_count": 79,
      "outputs": [
        {
          "output_type": "stream",
          "name": "stdout",
          "text": [
            "[[ 847. 1034. 1232.]\n",
            " [3130. 3879. 4633.]\n",
            " [1986. 2454. 2933.]]\n"
          ]
        }
      ]
    },
    {
      "cell_type": "markdown",
      "source": [
        "EJERCICIO 5"
      ],
      "metadata": {
        "id": "pq8GVH_2zLZn"
      }
    },
    {
      "cell_type": "code",
      "source": [
        "V=np.array([[1],[7],[6]])\n",
        "print(Z@V)"
      ],
      "metadata": {
        "colab": {
          "base_uri": "https://localhost:8080/"
        },
        "id": "ACjZ5oMszNE1",
        "outputId": "b5acdb5f-0a38-4014-fa01-8fc40310b4de"
      },
      "execution_count": 85,
      "outputs": [
        {
          "output_type": "stream",
          "name": "stdout",
          "text": [
            "[[15477.]\n",
            " [58081.]\n",
            " [36762.]]\n"
          ]
        }
      ]
    },
    {
      "cell_type": "markdown",
      "source": [
        "EJERCICIO 6"
      ],
      "metadata": {
        "id": "Jjr9B6oGz1L4"
      }
    },
    {
      "cell_type": "code",
      "source": [
        "C = la.circulant([1,2,3,4,5])[:,[0,4,3,2,1]]\n",
        "print(la.det(C))\n"
      ],
      "metadata": {
        "colab": {
          "base_uri": "https://localhost:8080/"
        },
        "id": "rEWSFB85z21X",
        "outputId": "fb39cd9b-2f66-4be2-9eef-1df80a81e6af"
      },
      "execution_count": 102,
      "outputs": [
        {
          "output_type": "stream",
          "name": "stdout",
          "text": [
            "1875.0\n"
          ]
        }
      ]
    }
  ],
  "metadata": {
    "kernelspec": {
      "display_name": "Python 3",
      "language": "python",
      "name": "python3"
    },
    "language_info": {
      "codemirror_mode": {
        "name": "ipython",
        "version": 3
      },
      "file_extension": ".py",
      "mimetype": "text/x-python",
      "name": "python",
      "nbconvert_exporter": "python",
      "pygments_lexer": "ipython3",
      "version": "3.6.13"
    },
    "colab": {
      "name": "L1. Matrices.ipynb",
      "provenance": [],
      "include_colab_link": true
    }
  },
  "nbformat": 4,
  "nbformat_minor": 0
}